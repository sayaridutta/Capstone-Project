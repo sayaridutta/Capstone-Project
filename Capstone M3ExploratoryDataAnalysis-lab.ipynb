{
  "metadata": {
    "kernelspec": {
      "name": "python",
      "display_name": "Python (Pyodide)",
      "language": "python"
    },
    "language_info": {
      "codemirror_mode": {
        "name": "python",
        "version": 3
      },
      "file_extension": ".py",
      "mimetype": "text/x-python",
      "name": "python",
      "nbconvert_exporter": "python",
      "pygments_lexer": "ipython3",
      "version": "3.8"
    },
    "prev_pub_hash": "079bf8854a4255688941af2bd371b587b1f25737b4330b6346f5799c6c867e75"
  },
  "nbformat_minor": 4,
  "nbformat": 4,
  "cells": [
    {
      "cell_type": "markdown",
      "source": "<p style=\"text-align:center\">\n    <a href=\"https://skills.network\" target=\"_blank\">\n    <img src=\"https://cf-courses-data.s3.us.cloud-object-storage.appdomain.cloud/assets/logos/SN_web_lightmode.png\" width=\"380\" alt=\"Skills Network Logo\">\n    </a>\n</p>\n",
      "metadata": {}
    },
    {
      "cell_type": "markdown",
      "source": "# **Exploratory Data Analysis Lab**\n",
      "metadata": {}
    },
    {
      "cell_type": "markdown",
      "source": "Estimated time needed: **30** minutes\n",
      "metadata": {}
    },
    {
      "cell_type": "markdown",
      "source": "In this module you get to work with the cleaned dataset from the previous module.\n\nIn this assignment you will perform the task of exploratory data analysis.\nYou will find out the distribution of data, presence of outliers and also determine the correlation between different columns in the dataset.\n",
      "metadata": {}
    },
    {
      "cell_type": "markdown",
      "source": "## Objectives\n",
      "metadata": {}
    },
    {
      "cell_type": "markdown",
      "source": "In this lab you will perform the following:\n",
      "metadata": {}
    },
    {
      "cell_type": "markdown",
      "source": "-   Identify the distribution of data in the dataset.\n\n-   Identify outliers in the dataset.\n\n-   Remove outliers from the dataset.\n\n-   Identify correlation between features in the dataset.\n",
      "metadata": {}
    },
    {
      "cell_type": "markdown",
      "source": "* * *\n",
      "metadata": {}
    },
    {
      "cell_type": "markdown",
      "source": "## Hands on Lab\n",
      "metadata": {}
    },
    {
      "cell_type": "markdown",
      "source": "Import the pandas module.\n",
      "metadata": {}
    },
    {
      "cell_type": "code",
      "source": "import pandas as pd",
      "metadata": {
        "trusted": true
      },
      "outputs": [
        {
          "name": "stderr",
          "text": "<ipython-input-2-7dd3504c366f>:1: DeprecationWarning: \nPyarrow will become a required dependency of pandas in the next major release of pandas (pandas 3.0),\n(to allow more performant data types, such as the Arrow string type, and better interoperability with other libraries)\nbut was not found to be installed on your system.\nIf this would cause problems for you,\nplease provide us feedback at https://github.com/pandas-dev/pandas/issues/54466\n        \n  import pandas as pd\n",
          "output_type": "stream"
        }
      ],
      "execution_count": 2
    },
    {
      "cell_type": "markdown",
      "source": "Load the dataset into a dataframe.\n",
      "metadata": {}
    },
    {
      "cell_type": "markdown",
      "source": "<h2>Read Data</h2>\n<p>\nWe utilize the <code>pandas.read_csv()</code> function for reading CSV files. However, in this version of the lab, which operates on JupyterLite, the dataset needs to be downloaded to the interface using the provided code below.\n</p>\n",
      "metadata": {}
    },
    {
      "cell_type": "markdown",
      "source": "The functions below will download the dataset into your browser:\n",
      "metadata": {}
    },
    {
      "cell_type": "code",
      "source": "from pyodide.http import pyfetch\n\nasync def download(url, filename):\n    response = await pyfetch(url)\n    if response.status == 200:\n        with open(filename, \"wb\") as f:\n            f.write(await response.bytes())",
      "metadata": {
        "trusted": true
      },
      "outputs": [],
      "execution_count": 3
    },
    {
      "cell_type": "code",
      "source": "file_path = \"https://cf-courses-data.s3.us.cloud-object-storage.appdomain.cloud/IBM-DA0321EN-SkillsNetwork/LargeData/m2_survey_data.csv\"",
      "metadata": {
        "trusted": true
      },
      "outputs": [],
      "execution_count": 4
    },
    {
      "cell_type": "markdown",
      "source": "To obtain the dataset, utilize the download() function as defined above:  \n",
      "metadata": {}
    },
    {
      "cell_type": "code",
      "source": "await download(file_path, \"m2_survey_data.csv\")\nfile_name=\"m2_survey_data.csv\"",
      "metadata": {
        "trusted": true
      },
      "outputs": [],
      "execution_count": 5
    },
    {
      "cell_type": "markdown",
      "source": "Utilize the Pandas method read_csv() to load the data into a dataframe.\n",
      "metadata": {}
    },
    {
      "cell_type": "code",
      "source": "df = pd.read_csv(file_name)",
      "metadata": {
        "trusted": true
      },
      "outputs": [],
      "execution_count": 6
    },
    {
      "cell_type": "markdown",
      "source": "> Note: This version of the lab is working on JupyterLite, which requires the dataset to be downloaded to the interface.While working on the downloaded version of this notebook on their local machines(Jupyter Anaconda), the learners can simply **skip the steps above,** and simply use the URL directly in the `pandas.read_csv()` function. You can uncomment and run the statements in the cell below.\n",
      "metadata": {}
    },
    {
      "cell_type": "code",
      "source": "#df = pd.read_csv(\"https://cf-courses-data.s3.us.cloud-object-storage.appdomain.cloud/IBM-DA0321EN-SkillsNetwork/LargeData/m2_survey_data.csv\")",
      "metadata": {},
      "outputs": [],
      "execution_count": null
    },
    {
      "cell_type": "markdown",
      "source": "## Distribution\n",
      "metadata": {}
    },
    {
      "cell_type": "markdown",
      "source": "### Determine how the data is distributed\n",
      "metadata": {}
    },
    {
      "cell_type": "markdown",
      "source": "The column `ConvertedComp` contains Salary converted to annual USD salaries using the exchange rate on 2019-02-01.\n\nThis assumes 12 working months and 50 working weeks.\n",
      "metadata": {}
    },
    {
      "cell_type": "markdown",
      "source": "Plot the distribution curve for the column `ConvertedComp`.\n",
      "metadata": {}
    },
    {
      "cell_type": "code",
      "source": "# your code goes here\n",
      "metadata": {
        "trusted": true
      },
      "outputs": [],
      "execution_count": 7
    },
    {
      "cell_type": "markdown",
      "source": "Plot the histogram for the column `ConvertedComp`.\n",
      "metadata": {}
    },
    {
      "cell_type": "code",
      "source": "# your code goes here\nimport matplotlib.pyplot as plt\n\n# Extract the column\ncolumn_data = df['ConvertedComp']\n\n# Create the histogram\nplt.hist(column_data, bins=20, alpha=0.6, color='g', edgecolor='black')\n\nplt.xlabel('Converted Comp')\nplt.ylabel('Frequency')\nplt.title('Histogram of Values')\nplt.show()",
      "metadata": {
        "trusted": true
      },
      "outputs": [
        {
          "output_type": "display_data",
          "data": {
            "text/plain": "<Figure size 640x480 with 1 Axes>",
            "image/png": "[encoded data removed]"
          },
          "metadata": {}
        }
      ],
      "execution_count": 8
    },
    {
      "cell_type": "markdown",
      "source": "What is the median of the column `ConvertedComp`?\n",
      "metadata": {}
    },
    {
      "cell_type": "code",
      "source": "# your code goes here\n# Calculate the median\nmedian = df['ConvertedComp'].median()\n\n# Print the median\nprint(\"The median of the column 'ConvertedComp' is:\", median)",
      "metadata": {
        "trusted": true
      },
      "outputs": [
        {
          "name": "stdout",
          "text": "The median of the column 'ConvertedComp' is: 57745.0\n",
          "output_type": "stream"
        }
      ],
      "execution_count": 9
    },
    {
      "cell_type": "markdown",
      "source": "How many responders identified themselves only as a **Man**?\n",
      "metadata": {}
    },
    {
      "cell_type": "code",
      "source": "# your code goes here\ngender = df['Gender'].value_counts()\nprint(gender['Man'])",
      "metadata": {
        "trusted": true
      },
      "outputs": [
        {
          "name": "stdout",
          "text": "10480\n",
          "output_type": "stream"
        }
      ],
      "execution_count": 10
    },
    {
      "cell_type": "markdown",
      "source": "Find out the  median ConvertedComp of responders identified themselves only as a **Woman**?\n",
      "metadata": {}
    },
    {
      "cell_type": "code",
      "source": "# your code goes here\n# Filter for respondents who identified as 'Woman'\nwomen_data = df[df['Gender'] == 'Woman']\n\n# Calculate the median ConvertedComp for women\nmedian_converted_comp_women = women_data['ConvertedComp'].median()\n\nprint(\"Median ConvertedComp for Women:\", median_converted_comp_women)",
      "metadata": {
        "trusted": true
      },
      "outputs": [
        {
          "name": "stdout",
          "text": "Median ConvertedComp for Women: 57708.0\n",
          "output_type": "stream"
        }
      ],
      "execution_count": 11
    },
    {
      "cell_type": "markdown",
      "source": "Give the five number summary for the column `Age`?\n",
      "metadata": {}
    },
    {
      "cell_type": "markdown",
      "source": "**Double click here for hint**.\n\n<!--\nmin,q1,median,q3,max of a column are its five number summary.\n-->\n",
      "metadata": {}
    },
    {
      "cell_type": "code",
      "source": "# your code goes here\n# Five-number summary\nfive_number_summary = df['Age'].describe(percentiles=[0.25, 0.75])\n\nprint(five_number_summary.tail())",
      "metadata": {
        "trusted": true
      },
      "outputs": [
        {
          "name": "stdout",
          "text": "min    16.0\n25%    25.0\n50%    29.0\n75%    35.0\nmax    99.0\nName: Age, dtype: float64\n",
          "output_type": "stream"
        }
      ],
      "execution_count": 36
    },
    {
      "cell_type": "markdown",
      "source": "Plot a histogram of the column `Age`.\n",
      "metadata": {}
    },
    {
      "cell_type": "code",
      "source": "# your code goes here\n# Plot the histogram\nplt.hist(df['Age'], bins=10, edgecolor='black')\n\n# Add labels and title\nplt.xlabel('Age')\nplt.ylabel('Frequency')\nplt.title('Histogram of Age')\n\nplt.show()",
      "metadata": {
        "trusted": true
      },
      "outputs": [
        {
          "output_type": "display_data",
          "data": {
            "text/plain": "<Figure size 640x480 with 1 Axes>",
            "image/png": "[encoded data removed]"
          },
          "metadata": {}
        }
      ],
      "execution_count": 13
    },
    {
      "cell_type": "markdown",
      "source": "## Outliers\n",
      "metadata": {}
    },
    {
      "cell_type": "markdown",
      "source": "### Finding outliers\n",
      "metadata": {}
    },
    {
      "cell_type": "markdown",
      "source": "Find out if outliers exist in the column `ConvertedComp` using a box plot?\n",
      "metadata": {}
    },
    {
      "cell_type": "code",
      "source": "# your code goes here\n# Create a box plot\nplt.boxplot(df['ConvertedComp'])\n\n# Customize the plot\nplt.xlabel('Converted Compensation')\nplt.ylabel('Value')\nplt.title('Box Plot of Converted Compensation')\nplt.grid(True)\n\nplt.show()\n\n# Interpretation: \n# Look for data points that fall outside the whiskers (the lines extending from the box). \n# These points may be considered outliers.",
      "metadata": {
        "trusted": true
      },
      "outputs": [
        {
          "output_type": "display_data",
          "data": {
            "text/plain": "<Figure size 640x480 with 1 Axes>",
            "image/png": "[encoded data removed]"
          },
          "metadata": {}
        }
      ],
      "execution_count": 16
    },
    {
      "cell_type": "markdown",
      "source": "Find out the Inter Quartile Range for the column `ConvertedComp`.\n",
      "metadata": {}
    },
    {
      "cell_type": "code",
      "source": "# your code goes here\n# Calculate quartiles\nQ1 = df['ConvertedComp'].quantile(0.25)\nQ3 = df['ConvertedComp'].quantile(0.75)\n\n# Calculate IQR\nIQR = Q3 - Q1\n\nprint(\"Interquartile Range (IQR):\", IQR)",
      "metadata": {
        "trusted": true
      },
      "outputs": [
        {
          "name": "stdout",
          "text": "Interquartile Range (IQR): 73132.0\n",
          "output_type": "stream"
        }
      ],
      "execution_count": 19
    },
    {
      "cell_type": "markdown",
      "source": "Find out the upper and lower bounds.\n",
      "metadata": {}
    },
    {
      "cell_type": "code",
      "source": "# your code goes here\n# Calculate quartiles\nQ1 = df['ConvertedComp'].quantile(0.25)\nQ3 = df['ConvertedComp'].quantile(0.75)\n\n# Calculate IQR\nIQR = Q3 - Q1\n\n# Calculate lower and upper bounds\nlower_bound = Q1 - 1.5 * IQR\nupper_bound = Q3 + 1.5 * IQR\n\nprint(\"Lower bound:\", lower_bound)\nprint(\"Upper bound:\", upper_bound)",
      "metadata": {
        "trusted": true
      },
      "outputs": [
        {
          "name": "stdout",
          "text": "Lower bound: -82830.0\nUpper bound: 209698.0\n",
          "output_type": "stream"
        }
      ],
      "execution_count": 20
    },
    {
      "cell_type": "markdown",
      "source": "Identify how many outliers are there in the `ConvertedComp` column.\n",
      "metadata": {}
    },
    {
      "cell_type": "code",
      "source": "# your code goes here\n# Calculate quartiles\nQ1 = df['ConvertedComp'].quantile(0.25)\nQ3 = df['ConvertedComp'].quantile(0.75)\n\n# Calculate IQR\nIQR = Q3 - Q1\n\n# Calculate lower and upper bounds\nlower_bound = Q1 - 1.5 * IQR\nupper_bound = Q3 + 1.5 * IQR\n\n# Identify outliers\noutliers = df[(df['ConvertedComp'] < lower_bound) | (df['ConvertedComp'] > upper_bound)]\n\n# Count the number of outliers\nnum_outliers = len(outliers)\n\nprint(\"Number of outliers:\", num_outliers)",
      "metadata": {
        "trusted": true
      },
      "outputs": [
        {
          "name": "stdout",
          "text": "Number of outliers: 879\n",
          "output_type": "stream"
        }
      ],
      "execution_count": 21
    },
    {
      "cell_type": "markdown",
      "source": "Create a new dataframe by removing the outliers from the `ConvertedComp` column.\n",
      "metadata": {}
    },
    {
      "cell_type": "code",
      "source": "# your code goes here\n# Calculate quartiles\nQ1 = df['ConvertedComp'].quantile(0.25)\nQ3 = df['ConvertedComp'].quantile(0.75)\n\n# Calculate IQR\nIQR = Q3 - Q1\n\n# Calculate lower and upper bounds\nlower_bound = Q1 - 1.5 * IQR\nupper_bound = Q3 + 1.5 * IQR\n\n# Filter out outliers\ndf_no_outliers = df[(df['ConvertedComp'] >= lower_bound) & (df['ConvertedComp'] <= upper_bound)]\n\nprint(df_no_outliers)",
      "metadata": {
        "trusted": true
      },
      "outputs": [
        {
          "name": "stdout",
          "text": "       Respondent                      MainBranch Hobbyist  \\\n0               4  I am a developer by profession       No   \n1               9  I am a developer by profession      Yes   \n2              13  I am a developer by profession      Yes   \n4              17  I am a developer by profession      Yes   \n5              19  I am a developer by profession      Yes   \n...           ...                             ...      ...   \n11392       25134  I am a developer by profession      Yes   \n11393       25136  I am a developer by profession      Yes   \n11394       25137  I am a developer by profession      Yes   \n11395       25138  I am a developer by profession      Yes   \n11396       25141  I am a developer by profession      Yes   \n\n                                             OpenSourcer  \\\n0                                                  Never   \n1                             Once a month or more often   \n2      Less than once a month but more than once per ...   \n4      Less than once a month but more than once per ...   \n5                                                  Never   \n...                                                  ...   \n11392  Less than once a month but more than once per ...   \n11393                                              Never   \n11394                                              Never   \n11395                            Less than once per year   \n11396  Less than once a month but more than once per ...   \n\n                                              OpenSource          Employment  \\\n0      The quality of OSS and closed source software ...  Employed full-time   \n1      The quality of OSS and closed source software ...  Employed full-time   \n2      OSS is, on average, of HIGHER quality than pro...  Employed full-time   \n4      The quality of OSS and closed source software ...  Employed full-time   \n5      The quality of OSS and closed source software ...  Employed full-time   \n...                                                  ...                 ...   \n11392  OSS is, on average, of HIGHER quality than pro...  Employed full-time   \n11393  OSS is, on average, of HIGHER quality than pro...  Employed full-time   \n11394  The quality of OSS and closed source software ...  Employed full-time   \n11395  The quality of OSS and closed source software ...  Employed full-time   \n11396  OSS is, on average, of LOWER quality than prop...  Employed full-time   \n\n             Country Student  \\\n0      United States      No   \n1        New Zealand      No   \n2      United States      No   \n4          Australia      No   \n5             Brazil      No   \n...              ...     ...   \n11392        Ecuador      No   \n11393  United States      No   \n11394         Poland      No   \n11395  United States      No   \n11396    Switzerland      No   \n\n                                                 EdLevel  \\\n0               Bachelor’s degree (BA, BS, B.Eng., etc.)   \n1      Some college/university study without earning ...   \n2            Master’s degree (MA, MS, M.Eng., MBA, etc.)   \n4               Bachelor’s degree (BA, BS, B.Eng., etc.)   \n5      Some college/university study without earning ...   \n...                                                  ...   \n11392           Bachelor’s degree (BA, BS, B.Eng., etc.)   \n11393        Master’s degree (MA, MS, M.Eng., MBA, etc.)   \n11394        Master’s degree (MA, MS, M.Eng., MBA, etc.)   \n11395        Master’s degree (MA, MS, M.Eng., MBA, etc.)   \n11396  Secondary school (e.g. American high school, G...   \n\n                                          UndergradMajor  ...  \\\n0      Computer science, computer engineering, or sof...  ...   \n1      Computer science, computer engineering, or sof...  ...   \n2      Computer science, computer engineering, or sof...  ...   \n4      Computer science, computer engineering, or sof...  ...   \n5      Computer science, computer engineering, or sof...  ...   \n...                                                  ...  ...   \n11392  Computer science, computer engineering, or sof...  ...   \n11393  Computer science, computer engineering, or sof...  ...   \n11394  Computer science, computer engineering, or sof...  ...   \n11395  Computer science, computer engineering, or sof...  ...   \n11396                                                NaN  ...   \n\n                                  WelcomeChange  \\\n0       Just as welcome now as I felt last year   \n1       Just as welcome now as I felt last year   \n2      Somewhat more welcome now than last year   \n4       Just as welcome now as I felt last year   \n5       Just as welcome now as I felt last year   \n...                                         ...   \n11392  Somewhat less welcome now than last year   \n11393   Just as welcome now as I felt last year   \n11394     A lot more welcome now than last year   \n11395     A lot more welcome now than last year   \n11396  Somewhat less welcome now than last year   \n\n                                            SONewContent   Age Gender Trans  \\\n0      Tech articles written by other developers;Indu...  22.0    Man    No   \n1                                                    NaN  23.0    Man    No   \n2      Tech articles written by other developers;Cour...  28.0    Man    No   \n4      Tech articles written by other developers;Indu...  29.0    Man    No   \n5      Tech articles written by other developers;Indu...  31.0    Man    No   \n...                                                  ...   ...    ...   ...   \n11392          Tech articles written by other developers  32.0    Man    No   \n11393  Tech articles written by other developers;Cour...  36.0    Man    No   \n11394  Tech articles written by other developers;Tech...  25.0    Man    No   \n11395  Tech articles written by other developers;Indu...  34.0    Man    No   \n11396                                                NaN  25.0    Man    No   \n\n                     Sexuality                              Ethnicity  \\\n0      Straight / Heterosexual           White or of European descent   \n1                     Bisexual           White or of European descent   \n2      Straight / Heterosexual           White or of European descent   \n4      Straight / Heterosexual  Hispanic or Latino/Latina;Multiracial   \n5      Straight / Heterosexual              Hispanic or Latino/Latina   \n...                        ...                                    ...   \n11392  Straight / Heterosexual              Hispanic or Latino/Latina   \n11393  Straight / Heterosexual           White or of European descent   \n11394  Straight / Heterosexual           White or of European descent   \n11395  Straight / Heterosexual           White or of European descent   \n11396  Straight / Heterosexual           White or of European descent   \n\n      Dependents           SurveyLength                  SurveyEase  \n0             No  Appropriate in length                        Easy  \n1             No  Appropriate in length  Neither easy nor difficult  \n2            Yes  Appropriate in length                        Easy  \n4             No  Appropriate in length                        Easy  \n5            Yes               Too long                        Easy  \n...          ...                    ...                         ...  \n11392         No  Appropriate in length                        Easy  \n11393         No  Appropriate in length                   Difficult  \n11394         No  Appropriate in length  Neither easy nor difficult  \n11395        Yes               Too long                        Easy  \n11396         No  Appropriate in length                        Easy  \n\n[9703 rows x 85 columns]\n",
          "output_type": "stream"
        }
      ],
      "execution_count": 22
    },
    {
      "cell_type": "markdown",
      "source": "## Correlation\n",
      "metadata": {}
    },
    {
      "cell_type": "markdown",
      "source": "### Finding correlation\n",
      "metadata": {}
    },
    {
      "cell_type": "markdown",
      "source": "Find the correlation between `Age` and all other numerical columns.\n",
      "metadata": {}
    },
    {
      "cell_type": "code",
      "source": "# your code goes here\nint_cols = df.select_dtypes(include=['float64','int64'])\n# Calculate correlation between Age and all numerical columns\ncorrelation_with_age = int_cols.corr()['Age']\n\nprint(correlation_with_age)",
      "metadata": {
        "trusted": true
      },
      "outputs": [
        {
          "name": "stdout",
          "text": "Respondent       0.004041\nCompTotal        0.006970\nConvertedComp    0.105386\nWorkWeekHrs      0.036518\nCodeRevHrs      -0.020469\nAge              1.000000\nName: Age, dtype: float64\n",
          "output_type": "stream"
        }
      ],
      "execution_count": 35
    },
    {
      "cell_type": "markdown",
      "source": "## Authors\n",
      "metadata": {}
    },
    {
      "cell_type": "markdown",
      "source": "Ramesh Sannareddy\n",
      "metadata": {}
    },
    {
      "cell_type": "markdown",
      "source": "### Other Contributors\n",
      "metadata": {}
    },
    {
      "cell_type": "markdown",
      "source": "Rav Ahuja\n",
      "metadata": {}
    },
    {
      "cell_type": "markdown",
      "source": " Copyright © 2020 IBM Corporation. This notebook and its source code are released under the terms of the [MIT License](https://cognitiveclass.ai/mit-license?cm_mmc=Email_Newsletter-_-Developer_Ed%2BTech-_-WW_WW-_-SkillsNetwork-Courses-IBM-DA0321EN-SkillsNetwork-21426264&cm_mmca1=000026UJ&cm_mmca2=10006555&cm_mmca3=M12345678&cvosrc=email.Newsletter.M12345678&cvo_campaign=000026UJ&cm_mmc=Email_Newsletter-_-Developer_Ed%2BTech-_-WW_WW-_-SkillsNetwork-Courses-IBM-DA0321EN-SkillsNetwork-21426264&cm_mmca1=000026UJ&cm_mmca2=10006555&cm_mmca3=M12345678&cvosrc=email.Newsletter.M12345678&cvo_campaign=000026UJ&cm_mmc=Email_Newsletter-_-Developer_Ed%2BTech-_-WW_WW-_-SkillsNetwork-Courses-IBM-DA0321EN-SkillsNetwork-21426264&cm_mmca1=000026UJ&cm_mmca2=10006555&cm_mmca3=M12345678&cvosrc=email.Newsletter.M12345678&cvo_campaign=000026UJ&cm_mmc=Email_Newsletter-_-Developer_Ed%2BTech-_-WW_WW-_-SkillsNetwork-Courses-IBM-DA0321EN-SkillsNetwork-21426264&cm_mmca1=000026UJ&cm_mmca2=10006555&cm_mmca3=M12345678&cvosrc=email.Newsletter.M12345678&cvo_campaign=000026UJ).\n",
      "metadata": {}
    },
    {
      "cell_type": "markdown",
      "source": "<!--## Change Log\n",
      "metadata": {}
    },
    {
      "cell_type": "markdown",
      "source": "<!--| Date (YYYY-MM-DD) | Version | Changed By        | Change Description                 |\n| ----------------- | ------- | ----------------- | ---------------------------------- |\n| 2020-10-17        | 0.1     | Ramesh Sannareddy | Created initial version of the lab |--!>\n",
      "metadata": {}
    }
  ]
}